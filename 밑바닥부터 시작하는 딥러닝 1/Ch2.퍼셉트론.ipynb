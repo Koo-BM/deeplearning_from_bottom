{
 "cells": [
  {
   "cell_type": "markdown",
   "metadata": {
    "id": "P0RfHXTIdQax"
   },
   "source": [
    "## 퍼셉트론\n"
   ]
  },
  {
   "cell_type": "code",
   "execution_count": 1,
   "metadata": {
    "executionInfo": {
     "elapsed": 1650,
     "status": "ok",
     "timestamp": 1601897444801,
     "user": {
      "displayName": "‍구병모[ 학부재학 / 통계학과 ]",
      "photoUrl": "",
      "userId": "10190861927292343283"
     },
     "user_tz": -540
    },
    "id": "A_C0pw0yhhp8"
   },
   "outputs": [],
   "source": [
    "def AND(x1, x2):\n",
    "    w1, w2, theta = 0.5, 0.5, 0.7\n",
    "    tmp = x1*w1 + x2*w2\n",
    "    if tmp <= theta:\n",
    "        return 0\n",
    "    elif tmp > theta:\n",
    "        return 1"
   ]
  },
  {
   "cell_type": "code",
   "execution_count": 4,
   "metadata": {
    "colab": {
     "base_uri": "https://localhost:8080/",
     "height": 89
    },
    "executionInfo": {
     "elapsed": 988,
     "status": "ok",
     "timestamp": 1601897500064,
     "user": {
      "displayName": "‍구병모[ 학부재학 / 통계학과 ]",
      "photoUrl": "",
      "userId": "10190861927292343283"
     },
     "user_tz": -540
    },
    "id": "Hlbjg-ADhz9Q",
    "outputId": "5dc4978e-e619-4014-9545-b8041d95e510"
   },
   "outputs": [
    {
     "name": "stdout",
     "output_type": "stream",
     "text": [
      "0\n",
      "0\n",
      "0\n",
      "1\n"
     ]
    }
   ],
   "source": [
    "print(AND(0, 0))\n",
    "print(AND(1, 0))\n",
    "print(AND(0, 1))\n",
    "print(AND(1, 1))"
   ]
  },
  {
   "cell_type": "markdown",
   "metadata": {
    "id": "c8Z8mA_xiiCG"
   },
   "source": [
    "1. 편향\n",
    "\n",
    "\n"
   ]
  },
  {
   "cell_type": "code",
   "execution_count": 20,
   "metadata": {
    "colab": {
     "base_uri": "https://localhost:8080/",
     "height": 53
    },
    "executionInfo": {
     "elapsed": 1239,
     "status": "ok",
     "timestamp": 1601898979295,
     "user": {
      "displayName": "‍구병모[ 학부재학 / 통계학과 ]",
      "photoUrl": "",
      "userId": "10190861927292343283"
     },
     "user_tz": -540
    },
    "id": "b-bzmmQBipMo",
    "outputId": "1814e9ce-fdca-498c-b21e-5b88d7ba8cec"
   },
   "outputs": [
    {
     "name": "stdout",
     "output_type": "stream",
     "text": [
      "0.5\n"
     ]
    },
    {
     "data": {
      "text/plain": [
       "-0.19999999999999996"
      ]
     },
     "execution_count": 20,
     "metadata": {
      "tags": []
     },
     "output_type": "execute_result"
    }
   ],
   "source": [
    "import numpy as np\n",
    "x = np.array([0,1])\n",
    "w = np.array([0.5, 0.5])\n",
    "b = -0.7\n",
    "w*x\n",
    "print(np.sum(w*x))\n",
    "np.sum(w*x) + b"
   ]
  },
  {
   "cell_type": "code",
   "execution_count": 21,
   "metadata": {
    "executionInfo": {
     "elapsed": 994,
     "status": "ok",
     "timestamp": 1601898981152,
     "user": {
      "displayName": "‍구병모[ 학부재학 / 통계학과 ]",
      "photoUrl": "",
      "userId": "10190861927292343283"
     },
     "user_tz": -540
    },
    "id": "eC-SUir6jrh4"
   },
   "outputs": [],
   "source": [
    "def AND(x1, x2):\n",
    "    x = np.array([x1, x2])\n",
    "    w = np.array([0.5, 0.5])\n",
    "    b = -0.7\n",
    "    tmp = np.sum(w*x) + b\n",
    "    if tmp <= 0:\n",
    "        return 0 \n",
    "    else: return 1"
   ]
  },
  {
   "cell_type": "code",
   "execution_count": 25,
   "metadata": {
    "executionInfo": {
     "elapsed": 1111,
     "status": "ok",
     "timestamp": 1601899053542,
     "user": {
      "displayName": "‍구병모[ 학부재학 / 통계학과 ]",
      "photoUrl": "",
      "userId": "10190861927292343283"
     },
     "user_tz": -540
    },
    "id": "5Yhb-HgUj7YR"
   },
   "outputs": [],
   "source": [
    "def NAND(x1, x2):\n",
    "    x = np.array([x1, x2])\n",
    "    w = np.array([-0.5, -0.5])\n",
    "    b = 0.7\n",
    "    tmp = np.sum(w*x) + b\n",
    "    if tmp <= 0:\n",
    "        return 0\n",
    "    else:\n",
    "        return 1\n",
    "\n",
    "def OR(x1, x2):\n",
    "    x = np.array([x1, x2])\n",
    "    w = np.array([0.5, 0.5])\n",
    "    b = -0.2\n",
    "    tmp = np.sum(w*x) + b\n",
    "    if tmp <= 0:\n",
    "        return 0\n",
    "    else:\n",
    "        return 1"
   ]
  },
  {
   "cell_type": "markdown",
   "metadata": {
    "id": "2zdZaiG0nEf2"
   },
   "source": [
    "2. XOR 게이트\n"
   ]
  },
  {
   "cell_type": "code",
   "execution_count": 26,
   "metadata": {
    "executionInfo": {
     "elapsed": 1005,
     "status": "ok",
     "timestamp": 1601899055804,
     "user": {
      "displayName": "‍구병모[ 학부재학 / 통계학과 ]",
      "photoUrl": "",
      "userId": "10190861927292343283"
     },
     "user_tz": -540
    },
    "id": "EV9wPMpEnG60"
   },
   "outputs": [],
   "source": [
    "def XOR(x1, x2):\n",
    "    s1 = NAND(x1, x2)\n",
    "    s2 = OR(x1, x2)\n",
    "    y = AND(s1, s2)\n",
    "    return y"
   ]
  },
  {
   "cell_type": "code",
   "execution_count": 27,
   "metadata": {
    "colab": {
     "base_uri": "https://localhost:8080/",
     "height": 89
    },
    "executionInfo": {
     "elapsed": 1025,
     "status": "ok",
     "timestamp": 1601899057408,
     "user": {
      "displayName": "‍구병모[ 학부재학 / 통계학과 ]",
      "photoUrl": "",
      "userId": "10190861927292343283"
     },
     "user_tz": -540
    },
    "id": "R8djhUhanR8Y",
    "outputId": "9407abe8-bbc8-458e-a27b-82cf35eb1918"
   },
   "outputs": [
    {
     "name": "stdout",
     "output_type": "stream",
     "text": [
      "0\n",
      "1\n",
      "1\n",
      "0\n"
     ]
    }
   ],
   "source": [
    "print(XOR(0, 0))\n",
    "print(XOR(1, 0))\n",
    "print(XOR(0, 1))\n",
    "print(XOR(1, 1))"
   ]
  }
 ],
 "metadata": {
  "colab": {
   "authorship_tag": "ABX9TyNUF1wcMqNiHwesoG1wF54y",
   "collapsed_sections": [],
   "name": "Ch2.퍼셉트론.ipynb",
   "provenance": []
  },
  "kernelspec": {
   "display_name": "Python 3",
   "name": "python3"
  }
 },
 "nbformat": 4,
 "nbformat_minor": 0
}
