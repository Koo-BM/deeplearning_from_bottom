{
 "cells": [
  {
   "cell_type": "markdown",
   "metadata": {
    "id": "74pE-821Wua7"
   },
   "source": [
    "계단 함수 "
   ]
  },
  {
   "cell_type": "code",
   "execution_count": 16,
   "metadata": {
    "executionInfo": {
     "elapsed": 2160,
     "status": "ok",
     "timestamp": 1606228253278,
     "user": {
      "displayName": "‍구병모[ 학부재학 / 통계학과 ]",
      "photoUrl": "",
      "userId": "10190861927292343283"
     },
     "user_tz": -540
    },
    "id": "-d5OW5qKW5bW"
   },
   "outputs": [],
   "source": [
    "def step_function(x):\n",
    "    if x > 0:\n",
    "        return 1\n",
    "    else:\n",
    "        return 0"
   ]
  },
  {
   "cell_type": "code",
   "execution_count": 17,
   "metadata": {
    "executionInfo": {
     "elapsed": 2526,
     "status": "ok",
     "timestamp": 1606228253650,
     "user": {
      "displayName": "‍구병모[ 학부재학 / 통계학과 ]",
      "photoUrl": "",
      "userId": "10190861927292343283"
     },
     "user_tz": -540
    },
    "id": "pXl_8e1DW4D2"
   },
   "outputs": [],
   "source": [
    "def step_function(x):\n",
    "    y = x > 0\n",
    "    return y.astype(np.int)"
   ]
  },
  {
   "cell_type": "code",
   "execution_count": 18,
   "metadata": {
    "colab": {
     "base_uri": "https://localhost:8080/"
    },
    "executionInfo": {
     "elapsed": 2517,
     "status": "ok",
     "timestamp": 1606228253650,
     "user": {
      "displayName": "‍구병모[ 학부재학 / 통계학과 ]",
      "photoUrl": "",
      "userId": "10190861927292343283"
     },
     "user_tz": -540
    },
    "id": "3FtTgIxhXZvM",
    "outputId": "87065348-d0a0-4fab-97d7-2aee0e326644"
   },
   "outputs": [
    {
     "name": "stdout",
     "output_type": "stream",
     "text": [
      "[-1.  1.  2.]\n"
     ]
    },
    {
     "data": {
      "text/plain": [
       "array([False,  True,  True])"
      ]
     },
     "execution_count": 18,
     "metadata": {},
     "output_type": "execute_result"
    }
   ],
   "source": [
    "import numpy as np\n",
    "x = np.array([-1.0, 1.0, 2.0])\n",
    "print(x)\n",
    "y = x > 0\n",
    "y"
   ]
  },
  {
   "cell_type": "code",
   "execution_count": 19,
   "metadata": {
    "colab": {
     "base_uri": "https://localhost:8080/"
    },
    "executionInfo": {
     "elapsed": 2511,
     "status": "ok",
     "timestamp": 1606228253651,
     "user": {
      "displayName": "‍구병모[ 학부재학 / 통계학과 ]",
      "photoUrl": "",
      "userId": "10190861927292343283"
     },
     "user_tz": -540
    },
    "id": "7Mtdid2aXtSX",
    "outputId": "c6433607-3aab-4599-f061-4af26852de3b"
   },
   "outputs": [
    {
     "data": {
      "text/plain": [
       "array([0, 1, 1])"
      ]
     },
     "execution_count": 19,
     "metadata": {},
     "output_type": "execute_result"
    }
   ],
   "source": [
    "y = y.astype(np.int)\n",
    "y"
   ]
  },
  {
   "cell_type": "code",
   "execution_count": 20,
   "metadata": {
    "colab": {
     "base_uri": "https://localhost:8080/",
     "height": 283
    },
    "executionInfo": {
     "elapsed": 3543,
     "status": "ok",
     "timestamp": 1606228254690,
     "user": {
      "displayName": "‍구병모[ 학부재학 / 통계학과 ]",
      "photoUrl": "",
      "userId": "10190861927292343283"
     },
     "user_tz": -540
    },
    "id": "db-aD_l1X1xJ",
    "outputId": "a1ea0f43-b8fa-435d-d879-3f9a8de92b1c"
   },
   "outputs": [
    {
     "data": {
      "text/plain": [
       "<function matplotlib.pyplot.show(*args, **kw)>"
      ]
     },
     "execution_count": 20,
     "metadata": {},
     "output_type": "execute_result"
    },
    {
     "data": {
      "image/png": "[encoded data removed]",
      "text/plain": [
       "<Figure size 432x288 with 1 Axes>"
      ]
     },
     "metadata": {
      "needs_background": "light"
     },
     "output_type": "display_data"
    }
   ],
   "source": [
    "import numpy as np\n",
    "import matplotlib.pylab as plt\n",
    "\n",
    "def step_function(x):\n",
    "    return np.array(x > 0, dtype=np.int)\n",
    "\n",
    "x = np.arange(-5.0, 5.0, 0.1)\n",
    "y = step_function(x)\n",
    "plt.plot(x, y)\n",
    "plt.ylim(-0.1, 1.1)\n",
    "plt.show"
   ]
  },
  {
   "cell_type": "markdown",
   "metadata": {
    "id": "5fofO84iYcb3"
   },
   "source": [
    "시그모이드 함수 "
   ]
  },
  {
   "cell_type": "code",
   "execution_count": 21,
   "metadata": {
    "id": "5kKU0u5yYWjf"
   },
   "outputs": [],
   "source": [
    "def sigmoid(x):\n",
    "    return 1 / (1 + np.exp(-x))"
   ]
  },
  {
   "cell_type": "code",
   "execution_count": 22,
   "metadata": {
    "colab": {
     "base_uri": "https://localhost:8080/"
    },
    "executionInfo": {
     "elapsed": 471,
     "status": "ok",
     "timestamp": 1602071905851,
     "user": {
      "displayName": "‍구병모[ 학부재학 / 통계학과 ]",
      "photoUrl": "",
      "userId": "10190861927292343283"
     },
     "user_tz": -540
    },
    "id": "C3ryYnTZYg4P",
    "outputId": "64115fdd-f590-4201-d69c-27e78cafbdb1"
   },
   "outputs": [
    {
     "data": {
      "text/plain": [
       "array([0.26894142, 0.73105858, 0.88079708])"
      ]
     },
     "execution_count": 22,
     "metadata": {},
     "output_type": "execute_result"
    }
   ],
   "source": [
    "x = np.array([-1.0, 1.0, 2.0])\n",
    "sigmoid(x)"
   ]
  },
  {
   "cell_type": "code",
   "execution_count": 23,
   "metadata": {
    "colab": {
     "base_uri": "https://localhost:8080/"
    },
    "executionInfo": {
     "elapsed": 665,
     "status": "ok",
     "timestamp": 1602071907025,
     "user": {
      "displayName": "‍구병모[ 학부재학 / 통계학과 ]",
      "photoUrl": "",
      "userId": "10190861927292343283"
     },
     "user_tz": -540
    },
    "id": "eo9r0gm2YxYq",
    "outputId": "73a02fa7-7475-4e7f-88b2-c1311511d29e"
   },
   "outputs": [
    {
     "name": "stdout",
     "output_type": "stream",
     "text": [
      "[2. 3. 4.]\n",
      "[1.         0.5        0.33333333]\n"
     ]
    }
   ],
   "source": [
    "t = np.array([1.0, 2.0, 3.0])\n",
    "print(1.0 + t)\n",
    "print(1.0 / t)"
   ]
  },
  {
   "cell_type": "code",
   "execution_count": 24,
   "metadata": {
    "colab": {
     "base_uri": "https://localhost:8080/",
     "height": 265
    },
    "executionInfo": {
     "elapsed": 682,
     "status": "ok",
     "timestamp": 1602071908177,
     "user": {
      "displayName": "‍구병모[ 학부재학 / 통계학과 ]",
      "photoUrl": "",
      "userId": "10190861927292343283"
     },
     "user_tz": -540
    },
    "id": "IWXSxQQqZSYM",
    "outputId": "32a598ac-d695-406d-b2c2-64e23c8f9f73"
   },
   "outputs": [
    {
     "data": {
      "image/png": "[encoded data removed]",
      "text/plain": [
       "<Figure size 432x288 with 1 Axes>"
      ]
     },
     "metadata": {
      "needs_background": "light"
     },
     "output_type": "display_data"
    }
   ],
   "source": [
    "x = np.arange(-5.0, 5.0, 0.1)\n",
    "y = sigmoid(x)\n",
    "plt.plot(x, y)\n",
    "plt.ylim(-0.1, 1.1)\n",
    "plt.show()"
   ]
  },
  {
   "cell_type": "markdown",
   "metadata": {
    "id": "vf5jcgUMbTEV"
   },
   "source": [
    "ReLU 함수"
   ]
  },
  {
   "cell_type": "code",
   "execution_count": 25,
   "metadata": {
    "executionInfo": {
     "elapsed": 846,
     "status": "ok",
     "timestamp": 1606228684859,
     "user": {
      "displayName": "‍구병모[ 학부재학 / 통계학과 ]",
      "photoUrl": "",
      "userId": "10190861927292343283"
     },
     "user_tz": -540
    },
    "id": "M-5v_gGGbWIf"
   },
   "outputs": [],
   "source": [
    "def relu(x):\n",
    "    return np.maximum(0, x)"
   ]
  },
  {
   "cell_type": "code",
   "execution_count": 26,
   "metadata": {
    "colab": {
     "base_uri": "https://localhost:8080/",
     "height": 269
    },
    "executionInfo": {
     "elapsed": 995,
     "status": "ok",
     "timestamp": 1606228707014,
     "user": {
      "displayName": "‍구병모[ 학부재학 / 통계학과 ]",
      "photoUrl": "",
      "userId": "10190861927292343283"
     },
     "user_tz": -540
    },
    "id": "q_2ssJx0sJzs",
    "outputId": "8b1b49c5-2eca-4b36-dfa1-1f0d3863bea8"
   },
   "outputs": [
    {
     "data": {
      "image/png": "[encoded data removed]",
      "text/plain": [
       "<Figure size 432x288 with 1 Axes>"
      ]
     },
     "metadata": {
      "needs_background": "light"
     },
     "output_type": "display_data"
    }
   ],
   "source": [
    "x = np.arange(-5.0, 5.0, 0.1)\n",
    "y = relu(x)\n",
    "plt.plot(x, y)\n",
    "plt.ylim(-0.1, 5)\n",
    "plt.show()"
   ]
  },
  {
   "cell_type": "markdown",
   "metadata": {
    "id": "bIrq6R0mbn7h"
   },
   "source": [
    "다차원 배열 "
   ]
  },
  {
   "cell_type": "code",
   "execution_count": 27,
   "metadata": {
    "colab": {
     "base_uri": "https://localhost:8080/"
    },
    "executionInfo": {
     "elapsed": 493,
     "status": "ok",
     "timestamp": 1602071911636,
     "user": {
      "displayName": "‍구병모[ 학부재학 / 통계학과 ]",
      "photoUrl": "",
      "userId": "10190861927292343283"
     },
     "user_tz": -540
    },
    "id": "qHGCN-LEbqab",
    "outputId": "72347004-b8fb-4fd8-aef3-fa37291a2643"
   },
   "outputs": [
    {
     "name": "stdout",
     "output_type": "stream",
     "text": [
      "[1 2 3 4]\n",
      "1\n",
      "(4,)\n"
     ]
    },
    {
     "data": {
      "text/plain": [
       "4"
      ]
     },
     "execution_count": 27,
     "metadata": {},
     "output_type": "execute_result"
    }
   ],
   "source": [
    "import numpy as np\n",
    "A = np.array([1, 2, 3, 4])\n",
    "print(A)\n",
    "print(np.ndim(A))\n",
    "print(A.shape)\n",
    "A.shape[0]"
   ]
  },
  {
   "cell_type": "code",
   "execution_count": 28,
   "metadata": {
    "colab": {
     "base_uri": "https://localhost:8080/"
    },
    "executionInfo": {
     "elapsed": 399,
     "status": "ok",
     "timestamp": 1602071912543,
     "user": {
      "displayName": "‍구병모[ 학부재학 / 통계학과 ]",
      "photoUrl": "",
      "userId": "10190861927292343283"
     },
     "user_tz": -540
    },
    "id": "cTKQwC1Scfqj",
    "outputId": "2e4d0e5d-5628-4925-dd2d-ed2d50755a89"
   },
   "outputs": [
    {
     "name": "stdout",
     "output_type": "stream",
     "text": [
      "[[1 2]\n",
      " [3 4]\n",
      " [5 6]]\n",
      "2\n"
     ]
    },
    {
     "data": {
      "text/plain": [
       "(3, 2)"
      ]
     },
     "execution_count": 28,
     "metadata": {},
     "output_type": "execute_result"
    }
   ],
   "source": [
    "B = np.array([[1,2], [3,4], [5,6]])\n",
    "print(B)\n",
    "print(np.ndim(B))\n",
    "B.shape"
   ]
  },
  {
   "cell_type": "code",
   "execution_count": 29,
   "metadata": {
    "colab": {
     "base_uri": "https://localhost:8080/"
    },
    "executionInfo": {
     "elapsed": 899,
     "status": "ok",
     "timestamp": 1602071913919,
     "user": {
      "displayName": "‍구병모[ 학부재학 / 통계학과 ]",
      "photoUrl": "",
      "userId": "10190861927292343283"
     },
     "user_tz": -540
    },
    "id": "MrmpPxrIdAKe",
    "outputId": "9e932065-906b-44f9-8d2c-7cd8daf9c8c5"
   },
   "outputs": [
    {
     "name": "stdout",
     "output_type": "stream",
     "text": [
      "(2, 2)\n",
      "(2, 2)\n"
     ]
    },
    {
     "data": {
      "text/plain": [
       "array([[19, 22],\n",
       "       [43, 50]])"
      ]
     },
     "execution_count": 29,
     "metadata": {},
     "output_type": "execute_result"
    }
   ],
   "source": [
    "A = np.array([[1,2], [3,4]])\n",
    "print(A.shape)\n",
    "B = np.array([[5,6], [7,8]])\n",
    "print(B.shape)\n",
    "np.dot(A, B)"
   ]
  },
  {
   "cell_type": "code",
   "execution_count": 30,
   "metadata": {
    "colab": {
     "base_uri": "https://localhost:8080/"
    },
    "executionInfo": {
     "elapsed": 385,
     "status": "ok",
     "timestamp": 1602071914227,
     "user": {
      "displayName": "‍구병모[ 학부재학 / 통계학과 ]",
      "photoUrl": "",
      "userId": "10190861927292343283"
     },
     "user_tz": -540
    },
    "id": "sr0tgbEad9M7",
    "outputId": "92b095d2-6275-47a5-eeff-817163c20d4a"
   },
   "outputs": [
    {
     "name": "stdout",
     "output_type": "stream",
     "text": [
      "(2, 3)\n",
      "(3, 2)\n"
     ]
    },
    {
     "data": {
      "text/plain": [
       "array([[22, 28],\n",
       "       [49, 64]])"
      ]
     },
     "execution_count": 30,
     "metadata": {},
     "output_type": "execute_result"
    }
   ],
   "source": [
    "A = np.array([[1,2,3], [4,5,6]])\n",
    "print(A.shape)\n",
    "B = np.array([[1,2], [3,4], [5,6]])\n",
    "print(B.shape)\n",
    "np.dot(A, B)"
   ]
  },
  {
   "cell_type": "code",
   "execution_count": 31,
   "metadata": {
    "colab": {
     "base_uri": "https://localhost:8080/"
    },
    "executionInfo": {
     "elapsed": 710,
     "status": "ok",
     "timestamp": 1602071923332,
     "user": {
      "displayName": "‍구병모[ 학부재학 / 통계학과 ]",
      "photoUrl": "",
      "userId": "10190861927292343283"
     },
     "user_tz": -540
    },
    "id": "PfWD0VSveZpj",
    "outputId": "4f7d6d9f-c950-45cb-d435-22a826a86db9"
   },
   "outputs": [
    {
     "name": "stdout",
     "output_type": "stream",
     "text": [
      "(2, 2)\n",
      "(2, 3)\n"
     ]
    },
    {
     "ename": "ValueError",
     "evalue": "shapes (2,3) and (2,2) not aligned: 3 (dim 1) != 2 (dim 0)",
     "output_type": "error",
     "traceback": [
      "\u001b[1;31m---------------------------------------------------------------------------\u001b[0m",
      "\u001b[1;31mValueError\u001b[0m                                Traceback (most recent call last)",
      "\u001b[1;32m<ipython-input-31-f3b9181ed7fb>\u001b[0m in \u001b[0;36m<module>\u001b[1;34m\u001b[0m\n\u001b[0;32m      2\u001b[0m \u001b[0mprint\u001b[0m\u001b[1;33m(\u001b[0m\u001b[0mC\u001b[0m\u001b[1;33m.\u001b[0m\u001b[0mshape\u001b[0m\u001b[1;33m)\u001b[0m\u001b[1;33m\u001b[0m\u001b[1;33m\u001b[0m\u001b[0m\n\u001b[0;32m      3\u001b[0m \u001b[0mprint\u001b[0m\u001b[1;33m(\u001b[0m\u001b[0mA\u001b[0m\u001b[1;33m.\u001b[0m\u001b[0mshape\u001b[0m\u001b[1;33m)\u001b[0m\u001b[1;33m\u001b[0m\u001b[1;33m\u001b[0m\u001b[0m\n\u001b[1;32m----> 4\u001b[1;33m \u001b[0mnp\u001b[0m\u001b[1;33m.\u001b[0m\u001b[0mdot\u001b[0m\u001b[1;33m(\u001b[0m\u001b[0mA\u001b[0m\u001b[1;33m,\u001b[0m \u001b[0mC\u001b[0m\u001b[1;33m)\u001b[0m\u001b[1;33m\u001b[0m\u001b[1;33m\u001b[0m\u001b[0m\n\u001b[0m",
      "\u001b[1;32m<__array_function__ internals>\u001b[0m in \u001b[0;36mdot\u001b[1;34m(*args, **kwargs)\u001b[0m\n",
      "\u001b[1;31mValueError\u001b[0m: shapes (2,3) and (2,2) not aligned: 3 (dim 1) != 2 (dim 0)"
     ]
    }
   ],
   "source": [
    "C = np.array([[1,2], [3,4]])\n",
    "print(C.shape)\n",
    "print(A.shape)\n",
    "np.dot(A, C)"
   ]
  },
  {
   "cell_type": "code",
   "execution_count": 32,
   "metadata": {
    "colab": {
     "base_uri": "https://localhost:8080/"
    },
    "executionInfo": {
     "elapsed": 768,
     "status": "ok",
     "timestamp": 1602071924474,
     "user": {
      "displayName": "‍구병모[ 학부재학 / 통계학과 ]",
      "photoUrl": "",
      "userId": "10190861927292343283"
     },
     "user_tz": -540
    },
    "id": "1OGQs0iefVow",
    "outputId": "940322b0-ca94-4655-f7a6-a88afbee9c4f"
   },
   "outputs": [
    {
     "name": "stdout",
     "output_type": "stream",
     "text": [
      "(3, 2)\n",
      "(2,)\n"
     ]
    },
    {
     "data": {
      "text/plain": [
       "array([23, 53, 83])"
      ]
     },
     "execution_count": 32,
     "metadata": {},
     "output_type": "execute_result"
    }
   ],
   "source": [
    "A = np.array([[1,2], [3,4], [5,6]])\n",
    "print(A.shape)\n",
    "B = np.array([7,8])\n",
    "print(B.shape)\n",
    "np.dot(A, B)"
   ]
  },
  {
   "cell_type": "code",
   "execution_count": 33,
   "metadata": {
    "colab": {
     "base_uri": "https://localhost:8080/"
    },
    "executionInfo": {
     "elapsed": 457,
     "status": "ok",
     "timestamp": 1602071925414,
     "user": {
      "displayName": "‍구병모[ 학부재학 / 통계학과 ]",
      "photoUrl": "",
      "userId": "10190861927292343283"
     },
     "user_tz": -540
    },
    "id": "bbpY7mA2f-ew",
    "outputId": "0e406ac7-9091-4c98-a588-a719acc7f7cf"
   },
   "outputs": [
    {
     "name": "stdout",
     "output_type": "stream",
     "text": [
      "(2,)\n",
      "[[1 3 5]\n",
      " [2 4 6]]\n",
      "(2, 3)\n",
      "[ 5 11 17]\n"
     ]
    }
   ],
   "source": [
    "X = np.array([1,2])\n",
    "print(X.shape)\n",
    "W = np.array([[1,3,5], [2,4,6]])\n",
    "print(W)\n",
    "print(W.shape)\n",
    "Y = np.dot(X, W)\n",
    "print(Y)"
   ]
  },
  {
   "cell_type": "markdown",
   "metadata": {
    "id": "RxRxGDCQhFqV"
   },
   "source": [
    "3층 신경망 구현하기\n"
   ]
  },
  {
   "cell_type": "code",
   "execution_count": 34,
   "metadata": {
    "colab": {
     "base_uri": "https://localhost:8080/"
    },
    "executionInfo": {
     "elapsed": 779,
     "status": "ok",
     "timestamp": 1602071927708,
     "user": {
      "displayName": "‍구병모[ 학부재학 / 통계학과 ]",
      "photoUrl": "",
      "userId": "10190861927292343283"
     },
     "user_tz": -540
    },
    "id": "02QJfQonhIL0",
    "outputId": "e72e3bea-0969-4970-ae52-28ddd8e45553"
   },
   "outputs": [
    {
     "name": "stdout",
     "output_type": "stream",
     "text": [
      "(2, 3)\n",
      "(2,)\n",
      "(3,)\n",
      "[0.3 0.7 1.1]\n"
     ]
    }
   ],
   "source": [
    "X = np.array([1.0, 0.5])\n",
    "W1 = np.array([[0.1, 0.3, 0.5], [0.2, 0.4, 0.6]])\n",
    "B1 = np.array([0.1, 0.2, 0.3])\n",
    "\n",
    "print(W1.shape)\n",
    "print(X.shape)\n",
    "print(B1.shape)\n",
    "\n",
    "A1 = np.dot(X, W1) + B1\n",
    "print(A1)"
   ]
  },
  {
   "cell_type": "code",
   "execution_count": 35,
   "metadata": {
    "colab": {
     "base_uri": "https://localhost:8080/"
    },
    "executionInfo": {
     "elapsed": 712,
     "status": "ok",
     "timestamp": 1602071929269,
     "user": {
      "displayName": "‍구병모[ 학부재학 / 통계학과 ]",
      "photoUrl": "",
      "userId": "10190861927292343283"
     },
     "user_tz": -540
    },
    "id": "OMbiFj9Hhmx6",
    "outputId": "3ebeac80-ce55-4054-d3a5-b5d556ad2497"
   },
   "outputs": [
    {
     "name": "stdout",
     "output_type": "stream",
     "text": [
      "[0.3 0.7 1.1]\n",
      "[0.57444252 0.66818777 0.75026011]\n"
     ]
    }
   ],
   "source": [
    "Z1 = sigmoid(A1)\n",
    "\n",
    "print(A1)\n",
    "print(Z1)"
   ]
  },
  {
   "cell_type": "code",
   "execution_count": 36,
   "metadata": {
    "colab": {
     "base_uri": "https://localhost:8080/"
    },
    "executionInfo": {
     "elapsed": 740,
     "status": "ok",
     "timestamp": 1602071930632,
     "user": {
      "displayName": "‍구병모[ 학부재학 / 통계학과 ]",
      "photoUrl": "",
      "userId": "10190861927292343283"
     },
     "user_tz": -540
    },
    "id": "3gVpa-aChvll",
    "outputId": "e2b37935-893d-492e-ec6e-d83b7206ff2f"
   },
   "outputs": [
    {
     "name": "stdout",
     "output_type": "stream",
     "text": [
      "(3,)\n",
      "(3, 2)\n",
      "(2,)\n",
      "[0.51615984 1.21402696]\n",
      "[0.62624937 0.7710107 ]\n"
     ]
    }
   ],
   "source": [
    "W2 = np.array([[0.1, 0.4], [0.2, 0.5], [0.3, 0.6]])\n",
    "B2 = np.array([0.1, 0.2])\n",
    "\n",
    "print(Z1.shape)\n",
    "print(W2.shape)\n",
    "print(B2.shape)\n",
    "\n",
    "A2 = np.dot(Z1, W2) + B2\n",
    "Z2 = sigmoid(A2)\n",
    "\n",
    "print(A2)\n",
    "print(Z2)"
   ]
  },
  {
   "cell_type": "code",
   "execution_count": 37,
   "metadata": {
    "colab": {
     "base_uri": "https://localhost:8080/"
    },
    "executionInfo": {
     "elapsed": 826,
     "status": "ok",
     "timestamp": 1602071932098,
     "user": {
      "displayName": "‍구병모[ 학부재학 / 통계학과 ]",
      "photoUrl": "",
      "userId": "10190861927292343283"
     },
     "user_tz": -540
    },
    "id": "00t2gzNGid4e",
    "outputId": "2150855e-6876-4ae7-ac06-7526c2e7cdb3"
   },
   "outputs": [
    {
     "name": "stdout",
     "output_type": "stream",
     "text": [
      "[0.31682708 0.69627909]\n",
      "[0.31682708 0.69627909]\n"
     ]
    }
   ],
   "source": [
    "def identitiy_function(x):\n",
    "    return x\n",
    "W3 = np.array([[0.1, 0.3], [0.2, 0.4]])\n",
    "B3 = np.array([0.1, 0.2])\n",
    "\n",
    "A3 = np.dot(Z2, W3) + B3\n",
    "Y = identitiy_function(A3)\n",
    "\n",
    "print(A3)\n",
    "print(Y)"
   ]
  },
  {
   "cell_type": "code",
   "execution_count": 38,
   "metadata": {
    "colab": {
     "base_uri": "https://localhost:8080/"
    },
    "executionInfo": {
     "elapsed": 472,
     "status": "ok",
     "timestamp": 1602071932937,
     "user": {
      "displayName": "‍구병모[ 학부재학 / 통계학과 ]",
      "photoUrl": "",
      "userId": "10190861927292343283"
     },
     "user_tz": -540
    },
    "id": "qj12nArKjIu8",
    "outputId": "b0ca6cd5-55b3-4fdd-b1d0-6ac9d2d5c18f"
   },
   "outputs": [
    {
     "name": "stdout",
     "output_type": "stream",
     "text": [
      "[0.31682708 0.69627909]\n"
     ]
    }
   ],
   "source": [
    "def init_network():\n",
    "    network = {}\n",
    "    network['W1'] = np.array([[0.1, 0.3, 0.5], [0.2, 0.4, 0.6]])\n",
    "    network['b1'] = np.array([0.1, 0.2, 0.3])\n",
    "    network['W2'] = np.array([[0.1, 0.4], [0.2, 0.5], [0.3, 0.6]])\n",
    "    network['b2'] = np.array([0.1, 0.2])\n",
    "    network['W3'] = np.array([[0.1, 0.3], [0.2, 0.4]])\n",
    "    network['b3'] = np.array([0.1, 0.2])\n",
    "\n",
    "    return network\n",
    "\n",
    "def forward(network, x):\n",
    "    W1, W2, W3 = network['W1'], network['W2'], network['W3']\n",
    "    b1, b2, b3 = network['b1'], network['b2'], network['b3']\n",
    "\n",
    "    a1 = np.dot(x, W1) + b1\n",
    "    z1 = sigmoid(a1)\n",
    "    a2 = np.dot(z1, W2) + b2\n",
    "    z2 = sigmoid(a2)\n",
    "    a3 = np.dot(z2, W3) + b3\n",
    "    y = identitiy_function(a3)\n",
    "\n",
    "    return y\n",
    "\n",
    "network = init_network()\n",
    "x = np.array([1.0, 0.5])\n",
    "y = forward(network, x)\n",
    "print(y)"
   ]
  },
  {
   "cell_type": "markdown",
   "metadata": {
    "id": "_qiB_GuDlBiw"
   },
   "source": [
    "출력층 설계하기 "
   ]
  },
  {
   "cell_type": "code",
   "execution_count": 39,
   "metadata": {
    "colab": {
     "base_uri": "https://localhost:8080/"
    },
    "executionInfo": {
     "elapsed": 755,
     "status": "ok",
     "timestamp": 1602071935015,
     "user": {
      "displayName": "‍구병모[ 학부재학 / 통계학과 ]",
      "photoUrl": "",
      "userId": "10190861927292343283"
     },
     "user_tz": -540
    },
    "id": "YDGUMtjZlDQh",
    "outputId": "e517766b-bed5-4d0e-a992-4e018479d6cd"
   },
   "outputs": [
    {
     "name": "stdout",
     "output_type": "stream",
     "text": [
      "[ 1.34985881 18.17414537 54.59815003]\n",
      "74.1221542101633\n",
      "[0.01821127 0.24519181 0.73659691]\n"
     ]
    }
   ],
   "source": [
    "a = np.array([0.3, 2.9, 4.0])\n",
    "exp_a = np.exp(a)\n",
    "print(exp_a)\n",
    "sum_exp_a = np.sum(exp_a)\n",
    "print(sum_exp_a)\n",
    "\n",
    "y = exp_a / sum_exp_a\n",
    "print(y)"
   ]
  },
  {
   "cell_type": "markdown",
   "metadata": {
    "id": "LGtMBgy-lqbf"
   },
   "source": [
    "소프트맥스 함수 "
   ]
  },
  {
   "cell_type": "code",
   "execution_count": 40,
   "metadata": {
    "executionInfo": {
     "elapsed": 798,
     "status": "ok",
     "timestamp": 1606228911296,
     "user": {
      "displayName": "‍구병모[ 학부재학 / 통계학과 ]",
      "photoUrl": "",
      "userId": "10190861927292343283"
     },
     "user_tz": -540
    },
    "id": "bIZE66_KluGd"
   },
   "outputs": [],
   "source": [
    "def softmax(a):\n",
    "    exp_a = np.exp(a)\n",
    "    sum_exp_a = np.sum(exp_a)\n",
    "    y = exp_a / sum_exp_a\n",
    "\n",
    "    return y"
   ]
  },
  {
   "cell_type": "code",
   "execution_count": 41,
   "metadata": {
    "colab": {
     "base_uri": "https://localhost:8080/"
    },
    "executionInfo": {
     "elapsed": 877,
     "status": "ok",
     "timestamp": 1606228884225,
     "user": {
      "displayName": "‍구병모[ 학부재학 / 통계학과 ]",
      "photoUrl": "",
      "userId": "10190861927292343283"
     },
     "user_tz": -540
    },
    "id": "XleF-dlJlsh_",
    "outputId": "011dcfea-af25-4717-f3fd-0f3654469841"
   },
   "outputs": [
    {
     "name": "stdout",
     "output_type": "stream",
     "text": [
      "[nan nan nan]\n",
      "[  0 -10 -20]\n",
      "[9.99954600e-01 4.53978686e-05 2.06106005e-09]\n"
     ]
    },
    {
     "name": "stderr",
     "output_type": "stream",
     "text": [
      "<ipython-input-41-7ebfaa9e7acc>:2: RuntimeWarning: overflow encountered in exp\n",
      "  print(np.exp(a) / np.sum(np.exp(a)))\n",
      "<ipython-input-41-7ebfaa9e7acc>:2: RuntimeWarning: invalid value encountered in true_divide\n",
      "  print(np.exp(a) / np.sum(np.exp(a)))\n"
     ]
    }
   ],
   "source": [
    "a = np.array([1010, 1000, 990])\n",
    "print(np.exp(a) / np.sum(np.exp(a)))\n",
    "\n",
    "c = np.max(a)\n",
    "print(a - c)\n",
    "print(np.exp(a-c) / np.sum(np.exp(a-c)))"
   ]
  },
  {
   "cell_type": "code",
   "execution_count": 42,
   "metadata": {
    "colab": {
     "base_uri": "https://localhost:8080/",
     "height": 269
    },
    "executionInfo": {
     "elapsed": 1412,
     "status": "ok",
     "timestamp": 1606228924903,
     "user": {
      "displayName": "‍구병모[ 학부재학 / 통계학과 ]",
      "photoUrl": "",
      "userId": "10190861927292343283"
     },
     "user_tz": -540
    },
    "id": "JI73SGF6s8OA",
    "outputId": "3d68855f-f3cd-43e5-8132-490e1e2bb27c"
   },
   "outputs": [
    {
     "data": {
      "image/png": "[encoded data removed]",
      "text/plain": [
       "<Figure size 432x288 with 1 Axes>"
      ]
     },
     "metadata": {
      "needs_background": "light"
     },
     "output_type": "display_data"
    }
   ],
   "source": [
    "x = np.arange(-5.0, 5.0, 0.1)\n",
    "y = softmax(x)\n",
    "plt.plot(x, y)\n",
    "plt.ylim(-0.1, 1.1)\n",
    "plt.show()"
   ]
  },
  {
   "cell_type": "code",
   "execution_count": 43,
   "metadata": {
    "id": "TTudsSTtmxwI"
   },
   "outputs": [],
   "source": [
    "def softmax(a):\n",
    "    c = np.max(a)\n",
    "    exp_a = np.exp(a - c) #오버플로 대책\n",
    "    sum_exp_a = np.sum(exp_a)\n",
    "    y = exp_a / sum_exp_a\n",
    "\n",
    "    return y"
   ]
  },
  {
   "cell_type": "code",
   "execution_count": 44,
   "metadata": {
    "colab": {
     "base_uri": "https://localhost:8080/"
    },
    "executionInfo": {
     "elapsed": 528,
     "status": "ok",
     "timestamp": 1602071939406,
     "user": {
      "displayName": "‍구병모[ 학부재학 / 통계학과 ]",
      "photoUrl": "",
      "userId": "10190861927292343283"
     },
     "user_tz": -540
    },
    "id": "GHGa-J6fm5Vi",
    "outputId": "1c899e06-344a-4ac1-f42d-8512282ca800"
   },
   "outputs": [
    {
     "name": "stdout",
     "output_type": "stream",
     "text": [
      "[0.01821127 0.24519181 0.73659691]\n"
     ]
    },
    {
     "data": {
      "text/plain": [
       "1.0"
      ]
     },
     "execution_count": 44,
     "metadata": {},
     "output_type": "execute_result"
    }
   ],
   "source": [
    "a = np.array([0.3, 2.9, 4.0])\n",
    "y = softmax(a)\n",
    "print(y)\n",
    "np.sum(y)"
   ]
  },
  {
   "cell_type": "markdown",
   "metadata": {
    "id": "PU5AyoNWNgqV"
   },
   "source": [
    "손글씨 숫자 인식 "
   ]
  },
  {
   "cell_type": "code",
   "execution_count": 45,
   "metadata": {
    "colab": {
     "base_uri": "https://localhost:8080/"
    },
    "executionInfo": {
     "elapsed": 668,
     "status": "ok",
     "timestamp": 1602071948698,
     "user": {
      "displayName": "‍구병모[ 학부재학 / 통계학과 ]",
      "photoUrl": "",
      "userId": "10190861927292343283"
     },
     "user_tz": -540
    },
    "id": "06lLpRABNlBT",
    "outputId": "38fb5234-66c6-4a43-d76e-5e5535f02e8d"
   },
   "outputs": [
    {
     "name": "stdout",
     "output_type": "stream",
     "text": [
      "(60000, 784)\n",
      "(60000,)\n",
      "(10000, 784)\n",
      "(10000,)\n"
     ]
    }
   ],
   "source": [
    "import sys, os\n",
    "sys.path.append('C:\\deep-learning-from-scratch-master')\n",
    "from dataset.mnist import load_mnist\n",
    "\n",
    "(x_train, t_train), (x_test, t_test) = \\\n",
    "    load_mnist(flatten=True, normalize=False)\n",
    "\n",
    "print(x_train.shape)\n",
    "print(t_train.shape)\n",
    "print(x_test.shape)\n",
    "print(t_test.shape)"
   ]
  },
  {
   "cell_type": "code",
   "execution_count": 46,
   "metadata": {
    "colab": {
     "base_uri": "https://localhost:8080/"
    },
    "executionInfo": {
     "elapsed": 605,
     "status": "ok",
     "timestamp": 1602071950436,
     "user": {
      "displayName": "‍구병모[ 학부재학 / 통계학과 ]",
      "photoUrl": "",
      "userId": "10190861927292343283"
     },
     "user_tz": -540
    },
    "id": "9qW-S8Jg3gyR",
    "outputId": "1a8b715e-7149-40f4-99e7-47eec240904c"
   },
   "outputs": [
    {
     "name": "stdout",
     "output_type": "stream",
     "text": [
      "5\n",
      "(784,)\n",
      "(28, 28)\n"
     ]
    }
   ],
   "source": [
    "import sys, os\n",
    "sys.path.append(os.pardir)\n",
    "import numpy as np\n",
    "from dataset.mnist import load_mnist\n",
    "from PIL import Image\n",
    "\n",
    "def img_show(img):\n",
    "    pil_img = Image.fromarray(np.uint8(img))\n",
    "    pil_img.show()\n",
    "\n",
    "(x_train, t_train), (x_test, t_test) = \\\n",
    "    load_mnist(flatten=True, normalize=False)\n",
    "\n",
    "img = x_train[0]\n",
    "label = t_train[0]\n",
    "print(label)\n",
    "\n",
    "print(img.shape)\n",
    "img = img.reshape(28, 28)\n",
    "print(img.shape)\n",
    "\n",
    "img_show(img)"
   ]
  },
  {
   "cell_type": "code",
   "execution_count": 47,
   "metadata": {
    "id": "06f2vsNA5_rY"
   },
   "outputs": [],
   "source": [
    "def get_data():\n",
    "    (x_train, t_train), (x_test, t_test) = \\\n",
    "        load_mnist(normalize=True, flatten=True, one_hot_label=False)\n",
    "    return x_test, t_test\n",
    "\n",
    "def init_network():\n",
    "    with open(\"C:\\deep-learning-from-scratch-master/ch03/sample_weight.pkl\", 'rb') as f:\n",
    "        network = pickle.load(f)\n",
    "\n",
    "    return network\n",
    "\n",
    "def predict(network, x):\n",
    "    W1, W2, W3 = network['W1'], network['W2'], network['W3']\n",
    "    b1, b2, b3 = network['b1'], network['b2'], network['b3']\n",
    "\n",
    "    a1 = np.dot(x, W1) + b1\n",
    "    z1 = sigmoid(a1)\n",
    "    a2 = np.dot(z1, W2) + b2\n",
    "    z2 = sigmoid(a2)\n",
    "    a3 = np.dot(z2, W3) + b3\n",
    "    y = softmax(a3) \n",
    "\n",
    "    return y"
   ]
  },
  {
   "cell_type": "code",
   "execution_count": 48,
   "metadata": {
    "colab": {
     "base_uri": "https://localhost:8080/"
    },
    "executionInfo": {
     "elapsed": 1670,
     "status": "ok",
     "timestamp": 1602072562225,
     "user": {
      "displayName": "‍구병모[ 학부재학 / 통계학과 ]",
      "photoUrl": "",
      "userId": "10190861927292343283"
     },
     "user_tz": -540
    },
    "id": "VDLVu-m07f4o",
    "outputId": "a810e7cf-5048-4cc3-d209-c66e9d12f3b0"
   },
   "outputs": [
    {
     "name": "stdout",
     "output_type": "stream",
     "text": [
      "Accuracy:0.9352\n"
     ]
    }
   ],
   "source": [
    "x, t = get_data()\n",
    "network = init_network()\n",
    "\n",
    "accuracy_cnt = 0\n",
    "for i in range(len(x)):\n",
    "    y = predict(network, x[i])\n",
    "    p = np.argmax(y)\n",
    "    if p == t[i]:\n",
    "        accuracy_cnt += 1\n",
    "\n",
    "print(\"Accuracy:\" + str(float(accuracy_cnt) / len(x)))\n"
   ]
  },
  {
   "cell_type": "markdown",
   "metadata": {
    "id": "SeGBx_nW-Je7"
   },
   "source": [
    "배치 처리 "
   ]
  },
  {
   "cell_type": "code",
   "execution_count": 49,
   "metadata": {
    "colab": {
     "base_uri": "https://localhost:8080/"
    },
    "executionInfo": {
     "elapsed": 759,
     "status": "ok",
     "timestamp": 1602072722668,
     "user": {
      "displayName": "‍구병모[ 학부재학 / 통계학과 ]",
      "photoUrl": "",
      "userId": "10190861927292343283"
     },
     "user_tz": -540
    },
    "id": "FhqAqpO--L8p",
    "outputId": "3e8482c2-ae40-4b40-83bc-d9a531893f93"
   },
   "outputs": [
    {
     "name": "stdout",
     "output_type": "stream",
     "text": [
      "(10000, 784)\n",
      "(784,)\n",
      "(784, 50)\n",
      "(50, 100)\n",
      "(100, 10)\n"
     ]
    }
   ],
   "source": [
    "x, _ = get_data()\n",
    "network = init_network()\n",
    "W1, W2, W3 = network['W1'], network['W2'], network['W3']\n",
    "\n",
    "print(x.shape)\n",
    "print(x[0].shape)\n",
    "print(W1.shape)\n",
    "print(W2.shape)\n",
    "print(W3.shape)"
   ]
  },
  {
   "cell_type": "code",
   "execution_count": 50,
   "metadata": {
    "colab": {
     "base_uri": "https://localhost:8080/"
    },
    "executionInfo": {
     "elapsed": 853,
     "status": "ok",
     "timestamp": 1602073012916,
     "user": {
      "displayName": "‍구병모[ 학부재학 / 통계학과 ]",
      "photoUrl": "",
      "userId": "10190861927292343283"
     },
     "user_tz": -540
    },
    "id": "vIuR0Y77-7FW",
    "outputId": "badf7bbb-1ff6-4b71-db9b-d019fc2f0fad"
   },
   "outputs": [
    {
     "name": "stdout",
     "output_type": "stream",
     "text": [
      "Accuracy:0.9352\n"
     ]
    }
   ],
   "source": [
    "x, t = get_data()\n",
    "network = init_network()\n",
    "\n",
    "batch_size = 100\n",
    "accuracy_cnt = 0\n",
    "for i in range(0, len(x), batch_size):\n",
    "    x_batch = x[i:i+batch_size]\n",
    "    y_batch = predict(network, x_batch)\n",
    "    p = np.argmax(y_batch, axis=1)\n",
    "    accuracy_cnt += np.sum(p == t[i:i+batch_size])\n",
    "\n",
    "print(\"Accuracy:\" + str(float(accuracy_cnt) / len(x)))"
   ]
  },
  {
   "cell_type": "code",
   "execution_count": 51,
   "metadata": {
    "colab": {
     "base_uri": "https://localhost:8080/"
    },
    "executionInfo": {
     "elapsed": 824,
     "status": "ok",
     "timestamp": 1602073057115,
     "user": {
      "displayName": "‍구병모[ 학부재학 / 통계학과 ]",
      "photoUrl": "",
      "userId": "10190861927292343283"
     },
     "user_tz": -540
    },
    "id": "bLpJU2Cb_qUX",
    "outputId": "6aedb4a0-e49d-43c5-ccf3-1327f8a7876a"
   },
   "outputs": [
    {
     "data": {
      "text/plain": [
       "[0, 3, 6, 9]"
      ]
     },
     "execution_count": 51,
     "metadata": {},
     "output_type": "execute_result"
    }
   ],
   "source": [
    "list(range(0, 10))\n",
    "list(range(0, 10, 3))"
   ]
  },
  {
   "cell_type": "code",
   "execution_count": 52,
   "metadata": {
    "colab": {
     "base_uri": "https://localhost:8080/"
    },
    "executionInfo": {
     "elapsed": 1583,
     "status": "ok",
     "timestamp": 1602073204849,
     "user": {
      "displayName": "‍구병모[ 학부재학 / 통계학과 ]",
      "photoUrl": "",
      "userId": "10190861927292343283"
     },
     "user_tz": -540
    },
    "id": "x79_bQOrACC6",
    "outputId": "b6ae2117-444b-4050-e194-8908adcda93b"
   },
   "outputs": [
    {
     "name": "stdout",
     "output_type": "stream",
     "text": [
      "[1 2 1 0]\n"
     ]
    }
   ],
   "source": [
    "x = np.array([[0.1, 0.8, 0.1], [0.3, 0.1, 0.6], [0.2, 0.5, 0.3], [0.8, 0.1, 0.1]])\n",
    "y = np.argmax(x, axis=1)\n",
    "print(y)"
   ]
  },
  {
   "cell_type": "code",
   "execution_count": 53,
   "metadata": {
    "colab": {
     "base_uri": "https://localhost:8080/"
    },
    "executionInfo": {
     "elapsed": 742,
     "status": "ok",
     "timestamp": 1602073287332,
     "user": {
      "displayName": "‍구병모[ 학부재학 / 통계학과 ]",
      "photoUrl": "",
      "userId": "10190861927292343283"
     },
     "user_tz": -540
    },
    "id": "qNSkpT6pAd3L",
    "outputId": "53f92449-8141-4b91-e096-75dfb1104393"
   },
   "outputs": [
    {
     "name": "stdout",
     "output_type": "stream",
     "text": [
      "[ True  True False  True]\n"
     ]
    },
    {
     "data": {
      "text/plain": [
       "3"
      ]
     },
     "execution_count": 53,
     "metadata": {},
     "output_type": "execute_result"
    }
   ],
   "source": [
    "y = np.array([1,2,1,0])\n",
    "t = np.array([1,2,0,0])\n",
    "print(y == t)\n",
    "np.sum(y == t)"
   ]
  }
 ],
 "metadata": {
  "colab": {
   "authorship_tag": "ABX9TyOXEHDJ1Y5GfDKckcDXAVx5",
   "collapsed_sections": [],
   "mount_file_id": "1NBR_HnaSETeE-RCbC1vjFPAcEwkAl0jC",
   "name": "Ch3.신경망.ipynb",
   "provenance": [],
   "toc_visible": true
  },
  "kernelspec": {
   "display_name": "Python 3",
   "language": "python",
   "name": "python3"
  },
  "language_info": {
   "codemirror_mode": {
    "name": "ipython",
    "version": 3
   },
   "file_extension": ".py",
   "mimetype": "text/x-python",
   "name": "python",
   "nbconvert_exporter": "python",
   "pygments_lexer": "ipython3",
   "version": "3.8.3"
  }
 },
 "nbformat": 4,
 "nbformat_minor": 1
}
